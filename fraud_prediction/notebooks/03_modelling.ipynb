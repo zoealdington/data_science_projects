{
 "cells": [
  {
   "cell_type": "markdown",
   "source": [
    "# Imports"
   ],
   "metadata": {}
  },
  {
   "cell_type": "code",
   "execution_count": 108,
   "source": [
    "import pandas as pd\n",
    "import xgboost as xgb\n",
    "from sklearn.model_selection import train_test_split\n",
    "from sklearn.ensemble import RandomForestClassifier\n",
    "from imblearn.over_sampling import RandomOverSampler\n",
    "from sklearn.metrics import roc_auc_score, confusion_matrix, f1_score, classification_report\n",
    "from bayes_opt import BayesianOptimization\n",
    "import shap"
   ],
   "outputs": [],
   "metadata": {}
  },
  {
   "cell_type": "markdown",
   "source": [
    "# Import Data"
   ],
   "metadata": {}
  },
  {
   "cell_type": "code",
   "execution_count": 4,
   "source": [
    "model_data = pd.read_csv('model_data.csv')"
   ],
   "outputs": [],
   "metadata": {}
  },
  {
   "cell_type": "code",
   "execution_count": 5,
   "source": [
    "model_data.shape"
   ],
   "outputs": [
    {
     "output_type": "execute_result",
     "data": {
      "text/plain": [
       "(641914, 92)"
      ]
     },
     "metadata": {},
     "execution_count": 5
    }
   ],
   "metadata": {}
  },
  {
   "cell_type": "markdown",
   "source": [
    "# Split Data\n",
    "\n",
    "We will split the data into 3 sets.\n",
    "\n",
    "1. Train: used for training the model\n",
    "2. Validation: used as an unseen data set to compare model performances\n",
    "3. Test: used to determine the final expected performance of the model"
   ],
   "metadata": {}
  },
  {
   "cell_type": "code",
   "execution_count": 6,
   "source": [
    "X_train, X_valid, y_train, y_valid = train_test_split(model_data.drop(columns='isFraud')\n",
    "                                                       , model_data['isFraud']\n",
    "                                                       , test_size=0.3\n",
    "                                                       , random_state=1\n",
    "                                                       , stratify=model_data['isFraud'])"
   ],
   "outputs": [],
   "metadata": {}
  },
  {
   "cell_type": "code",
   "execution_count": 7,
   "source": [
    "X_test, X_valid, y_test, y_valid = train_test_split(X_valid\n",
    "                                                       , y_valid\n",
    "                                                       , test_size=0.5\n",
    "                                                       , random_state=1\n",
    "                                                       , stratify=y_valid)"
   ],
   "outputs": [],
   "metadata": {}
  },
  {
   "cell_type": "code",
   "execution_count": 8,
   "source": [
    "print(f\"X train: {X_train.shape}\")\n",
    "print(f\"X valid: {X_valid.shape}\")\n",
    "print(f\"X test: {X_test.shape}\")"
   ],
   "outputs": [
    {
     "output_type": "stream",
     "name": "stdout",
     "text": [
      "X train: (449339, 91)\n",
      "X valid: (96288, 91)\n",
      "X test: (96287, 91)\n"
     ]
    }
   ],
   "metadata": {}
  },
  {
   "cell_type": "markdown",
   "source": [
    "# Over Sampling\n",
    "\n",
    "Since the data is extremely imbalanced, we will use oversampling on the minority class. I have avoided under sampling for now, as I believe it would cause a large loss of information, however, this could be explored in future. Other methods that could also be explored include the creation of synthetic data points e.g. SMOTE.\n",
    "\n",
    "Setting `sampling_strategy = 0.1` is very conservative. This value could be increased to understand whether this would improve the model performance."
   ],
   "metadata": {}
  },
  {
   "cell_type": "code",
   "execution_count": 9,
   "source": [
    "oversample = RandomOverSampler(sampling_strategy=0.1)"
   ],
   "outputs": [],
   "metadata": {}
  },
  {
   "cell_type": "code",
   "execution_count": 10,
   "source": [
    "X_train_over, y_train_over = oversample.fit_resample(X_train, y_train)"
   ],
   "outputs": [],
   "metadata": {}
  },
  {
   "cell_type": "code",
   "execution_count": 11,
   "source": [
    "y_train_over.value_counts()"
   ],
   "outputs": [
    {
     "output_type": "execute_result",
     "data": {
      "text/plain": [
       "0    441428\n",
       "1     44142\n",
       "Name: isFraud, dtype: int64"
      ]
     },
     "metadata": {},
     "execution_count": 11
    }
   ],
   "metadata": {}
  },
  {
   "cell_type": "code",
   "execution_count": 12,
   "source": [
    "y_train.value_counts()"
   ],
   "outputs": [
    {
     "output_type": "execute_result",
     "data": {
      "text/plain": [
       "0    441428\n",
       "1      7911\n",
       "Name: isFraud, dtype: int64"
      ]
     },
     "metadata": {},
     "execution_count": 12
    }
   ],
   "metadata": {}
  },
  {
   "cell_type": "markdown",
   "source": [
    "# Fit Baseline Model\n",
    "\n",
    "Fitting a baseline model to benchmark the performance of future models."
   ],
   "metadata": {}
  },
  {
   "cell_type": "code",
   "execution_count": 68,
   "source": [
    "rf = RandomForestClassifier(n_estimators=100, max_depth=6)"
   ],
   "outputs": [],
   "metadata": {}
  },
  {
   "cell_type": "code",
   "execution_count": 69,
   "source": [
    "rf.fit(X_train_over, y_train_over)"
   ],
   "outputs": [
    {
     "output_type": "execute_result",
     "data": {
      "text/plain": [
       "RandomForestClassifier(max_depth=6)"
      ]
     },
     "metadata": {},
     "execution_count": 69
    }
   ],
   "metadata": {}
  },
  {
   "cell_type": "code",
   "execution_count": 70,
   "source": [
    "y_pred = rf.predict_proba(X_valid)[:,1]"
   ],
   "outputs": [],
   "metadata": {}
  },
  {
   "cell_type": "markdown",
   "source": [
    "Since the data is imbalanced, it is best not to use accuracy as a metric. Here we are using ROC AUC which gives us the area under the ROC curve - this plots the true positive rate against the false positive rate at varying discrimination thresholds. We want to maximise this value."
   ],
   "metadata": {}
  },
  {
   "cell_type": "code",
   "execution_count": 71,
   "source": [
    "roc_auc_score(y_valid, y_pred)"
   ],
   "outputs": [
    {
     "output_type": "execute_result",
     "data": {
      "text/plain": [
       "0.7059079363387066"
      ]
     },
     "metadata": {},
     "execution_count": 71
    }
   ],
   "metadata": {}
  },
  {
   "cell_type": "code",
   "execution_count": 72,
   "source": [
    "rf_feat_importance = pd.DataFrame(zip(X_train_over.columns, rf.feature_importances_)\n",
    "                                 ,columns=['feature','importance'])\n",
    "rf_feat_importance.sort_values(by='importance',ascending=False)[:10]"
   ],
   "outputs": [
    {
     "output_type": "execute_result",
     "data": {
      "text/html": [
       "<div>\n",
       "<style scoped>\n",
       "    .dataframe tbody tr th:only-of-type {\n",
       "        vertical-align: middle;\n",
       "    }\n",
       "\n",
       "    .dataframe tbody tr th {\n",
       "        vertical-align: top;\n",
       "    }\n",
       "\n",
       "    .dataframe thead th {\n",
       "        text-align: right;\n",
       "    }\n",
       "</style>\n",
       "<table border=\"1\" class=\"dataframe\">\n",
       "  <thead>\n",
       "    <tr style=\"text-align: right;\">\n",
       "      <th></th>\n",
       "      <th>feature</th>\n",
       "      <th>importance</th>\n",
       "    </tr>\n",
       "  </thead>\n",
       "  <tbody>\n",
       "    <tr>\n",
       "      <th>2</th>\n",
       "      <td>transactionAmount</td>\n",
       "      <td>0.481279</td>\n",
       "    </tr>\n",
       "    <tr>\n",
       "      <th>25</th>\n",
       "      <td>merchantCategoryCode_fuel</td>\n",
       "      <td>0.071758</td>\n",
       "    </tr>\n",
       "    <tr>\n",
       "      <th>32</th>\n",
       "      <td>merchantCategoryCode_online_retail</td>\n",
       "      <td>0.040784</td>\n",
       "    </tr>\n",
       "    <tr>\n",
       "      <th>7</th>\n",
       "      <td>daysSinceAccountOpen</td>\n",
       "      <td>0.031744</td>\n",
       "    </tr>\n",
       "    <tr>\n",
       "      <th>30</th>\n",
       "      <td>merchantCategoryCode_mobileapps</td>\n",
       "      <td>0.028629</td>\n",
       "    </tr>\n",
       "    <tr>\n",
       "      <th>4</th>\n",
       "      <td>cardPresent</td>\n",
       "      <td>0.027223</td>\n",
       "    </tr>\n",
       "    <tr>\n",
       "      <th>8</th>\n",
       "      <td>daysSinceLastAddressChange</td>\n",
       "      <td>0.027088</td>\n",
       "    </tr>\n",
       "    <tr>\n",
       "      <th>33</th>\n",
       "      <td>merchantCategoryCode_online_subscriptions</td>\n",
       "      <td>0.025761</td>\n",
       "    </tr>\n",
       "    <tr>\n",
       "      <th>3</th>\n",
       "      <td>currentBalance</td>\n",
       "      <td>0.024458</td>\n",
       "    </tr>\n",
       "    <tr>\n",
       "      <th>29</th>\n",
       "      <td>merchantCategoryCode_hotels</td>\n",
       "      <td>0.023323</td>\n",
       "    </tr>\n",
       "  </tbody>\n",
       "</table>\n",
       "</div>"
      ],
      "text/plain": [
       "                                      feature  importance\n",
       "2                           transactionAmount    0.481279\n",
       "25                  merchantCategoryCode_fuel    0.071758\n",
       "32         merchantCategoryCode_online_retail    0.040784\n",
       "7                        daysSinceAccountOpen    0.031744\n",
       "30            merchantCategoryCode_mobileapps    0.028629\n",
       "4                                 cardPresent    0.027223\n",
       "8                  daysSinceLastAddressChange    0.027088\n",
       "33  merchantCategoryCode_online_subscriptions    0.025761\n",
       "3                              currentBalance    0.024458\n",
       "29                merchantCategoryCode_hotels    0.023323"
      ]
     },
     "metadata": {},
     "execution_count": 72
    }
   ],
   "metadata": {}
  },
  {
   "cell_type": "markdown",
   "source": [
    "# Fit XGBoost Model\n",
    "\n",
    "Fitting an XGBoost model which should perform better than Random Forest due to gradient boosting. Using `scale_pos_weight = 10` will give larger weighting to incorrect predictions for the minority class which should result in a better model performance than without this parameter."
   ],
   "metadata": {}
  },
  {
   "cell_type": "code",
   "execution_count": 78,
   "source": [
    "xgb_model = xgb.XGBClassifier(scale_pos_weight=10)"
   ],
   "outputs": [],
   "metadata": {}
  },
  {
   "cell_type": "code",
   "execution_count": 79,
   "source": [
    "xgb_model.fit(X_train_over, y_train_over)"
   ],
   "outputs": [
    {
     "output_type": "execute_result",
     "data": {
      "text/plain": [
       "XGBClassifier(scale_pos_weight=10)"
      ]
     },
     "metadata": {},
     "execution_count": 79
    }
   ],
   "metadata": {}
  },
  {
   "cell_type": "code",
   "execution_count": 80,
   "source": [
    "y_pred = xgb_model.predict_proba(X_valid)[:,1]"
   ],
   "outputs": [],
   "metadata": {}
  },
  {
   "cell_type": "code",
   "execution_count": 81,
   "source": [
    "roc_auc_score(y_valid, y_pred)"
   ],
   "outputs": [
    {
     "output_type": "execute_result",
     "data": {
      "text/plain": [
       "0.7229948971760746"
      ]
     },
     "metadata": {},
     "execution_count": 81
    }
   ],
   "metadata": {}
  },
  {
   "cell_type": "code",
   "execution_count": 82,
   "source": [
    "xgb_feat_importance = pd.DataFrame(zip(X_train_over.columns, xgb_model.feature_importances_)\n",
    "                                 ,columns=['feature','importance'])\n",
    "xgb_feat_importance.sort_values(by='importance',ascending=False)[:10]"
   ],
   "outputs": [
    {
     "output_type": "execute_result",
     "data": {
      "text/html": [
       "<div>\n",
       "<style scoped>\n",
       "    .dataframe tbody tr th:only-of-type {\n",
       "        vertical-align: middle;\n",
       "    }\n",
       "\n",
       "    .dataframe tbody tr th {\n",
       "        vertical-align: top;\n",
       "    }\n",
       "\n",
       "    .dataframe thead th {\n",
       "        text-align: right;\n",
       "    }\n",
       "</style>\n",
       "<table border=\"1\" class=\"dataframe\">\n",
       "  <thead>\n",
       "    <tr style=\"text-align: right;\">\n",
       "      <th></th>\n",
       "      <th>feature</th>\n",
       "      <th>importance</th>\n",
       "    </tr>\n",
       "  </thead>\n",
       "  <tbody>\n",
       "    <tr>\n",
       "      <th>2</th>\n",
       "      <td>transactionAmount</td>\n",
       "      <td>0.213348</td>\n",
       "    </tr>\n",
       "    <tr>\n",
       "      <th>25</th>\n",
       "      <td>merchantCategoryCode_fuel</td>\n",
       "      <td>0.067925</td>\n",
       "    </tr>\n",
       "    <tr>\n",
       "      <th>29</th>\n",
       "      <td>merchantCategoryCode_hotels</td>\n",
       "      <td>0.042733</td>\n",
       "    </tr>\n",
       "    <tr>\n",
       "      <th>23</th>\n",
       "      <td>merchantCategoryCode_food</td>\n",
       "      <td>0.042159</td>\n",
       "    </tr>\n",
       "    <tr>\n",
       "      <th>4</th>\n",
       "      <td>cardPresent</td>\n",
       "      <td>0.039942</td>\n",
       "    </tr>\n",
       "    <tr>\n",
       "      <th>30</th>\n",
       "      <td>merchantCategoryCode_mobileapps</td>\n",
       "      <td>0.038539</td>\n",
       "    </tr>\n",
       "    <tr>\n",
       "      <th>33</th>\n",
       "      <td>merchantCategoryCode_online_subscriptions</td>\n",
       "      <td>0.034249</td>\n",
       "    </tr>\n",
       "    <tr>\n",
       "      <th>0</th>\n",
       "      <td>creditLimit</td>\n",
       "      <td>0.033495</td>\n",
       "    </tr>\n",
       "    <tr>\n",
       "      <th>21</th>\n",
       "      <td>merchantCategoryCode_entertainment</td>\n",
       "      <td>0.032184</td>\n",
       "    </tr>\n",
       "    <tr>\n",
       "      <th>24</th>\n",
       "      <td>merchantCategoryCode_food_delivery</td>\n",
       "      <td>0.030471</td>\n",
       "    </tr>\n",
       "  </tbody>\n",
       "</table>\n",
       "</div>"
      ],
      "text/plain": [
       "                                      feature  importance\n",
       "2                           transactionAmount    0.213348\n",
       "25                  merchantCategoryCode_fuel    0.067925\n",
       "29                merchantCategoryCode_hotels    0.042733\n",
       "23                  merchantCategoryCode_food    0.042159\n",
       "4                                 cardPresent    0.039942\n",
       "30            merchantCategoryCode_mobileapps    0.038539\n",
       "33  merchantCategoryCode_online_subscriptions    0.034249\n",
       "0                                 creditLimit    0.033495\n",
       "21         merchantCategoryCode_entertainment    0.032184\n",
       "24         merchantCategoryCode_food_delivery    0.030471"
      ]
     },
     "metadata": {},
     "execution_count": 82
    }
   ],
   "metadata": {}
  },
  {
   "cell_type": "code",
   "execution_count": 83,
   "source": [
    "y_pred_bool = xgb_model.predict(X_valid)"
   ],
   "outputs": [],
   "metadata": {}
  },
  {
   "cell_type": "markdown",
   "source": [
    "The classification report shows metrics at the 0.5 discrimination threshold. In reality, we would probably analyse this threshold to find the best f1 score possible, and this might be used to flag potential fraud in the real world."
   ],
   "metadata": {}
  },
  {
   "cell_type": "code",
   "execution_count": 89,
   "source": [
    "print(classification_report(y_valid, y_pred_bool))"
   ],
   "outputs": [
    {
     "output_type": "stream",
     "name": "stdout",
     "text": [
      "              precision    recall  f1-score   support\n",
      "\n",
      "           0       0.99      0.60      0.75     94592\n",
      "           1       0.03      0.71      0.06      1696\n",
      "\n",
      "    accuracy                           0.61     96288\n",
      "   macro avg       0.51      0.66      0.41     96288\n",
      "weighted avg       0.97      0.61      0.74     96288\n",
      "\n"
     ]
    }
   ],
   "metadata": {}
  },
  {
   "cell_type": "markdown",
   "source": [
    "# Hyperparameter Tuning\n",
    "\n",
    "Using Bayesian optimisation for a hyperparameter tuning job using the XGBoost algorithm. This method uses past model information to select hyperparameter values to build the next model.\n",
    "\n",
    "https://machinelearningmastery.com/what-is-bayesian-optimization/"
   ],
   "metadata": {}
  },
  {
   "cell_type": "code",
   "execution_count": 90,
   "source": [
    "def train_model(max_depth,\n",
    "                learning_rate,\n",
    "                n_estimators,\n",
    "                min_child_weight,\n",
    "                subsample,\n",
    "                colsample_bytree):\n",
    "    \n",
    "    params = {'max_depth': int(max_depth),\n",
    "            'learning_rate': learning_rate,\n",
    "            'n_estimators': int(n_estimators),\n",
    "            'min_child_weight': int(min_child_weight),\n",
    "            'subsample': subsample,\n",
    "            'colsample_bytree': colsample_bytree}\n",
    "    \n",
    "    model = xgb.XGBClassifier(scale_pos_weight=10, **params)\n",
    "    model.fit(X_train_over, y_train_over)\n",
    "    y_pred = model.predict_proba(X_valid)[:,1]\n",
    "    return roc_auc_score(y_valid, y_pred)"
   ],
   "outputs": [],
   "metadata": {}
  },
  {
   "cell_type": "code",
   "execution_count": 91,
   "source": [
    "bounds =   {'max_depth': (3,6),\n",
    "            'learning_rate': (0.01,0.1),\n",
    "            'n_estimators': (100,200),\n",
    "            'min_child_weight': (1,50),\n",
    "            'subsample': (0.7,0.9),\n",
    "            'colsample_bytree': (0.7,0.9)}"
   ],
   "outputs": [],
   "metadata": {}
  },
  {
   "cell_type": "markdown",
   "source": [
    "Just running a small optimisation job here for the sake of time! In reality, we would want to use a larger number of `init_points` - these are models built with randomly chosen hyperparameters to give the optimisation algorithm a diverse exploration space to work with."
   ],
   "metadata": {}
  },
  {
   "cell_type": "code",
   "execution_count": 93,
   "source": [
    "optimizer = BayesianOptimization(f=train_model,pbounds=bounds,random_state=1)\n",
    "optimizer.maximize(init_points=1, n_iter=5)"
   ],
   "outputs": [
    {
     "output_type": "stream",
     "name": "stdout",
     "text": [
      "|   iter    |  target   | colsam... | learni... | max_depth | min_ch... | n_esti... | subsample |\n",
      "-------------------------------------------------------------------------------------------------\n",
      "| \u001b[0m 1       \u001b[0m | \u001b[0m 0.723   \u001b[0m | \u001b[0m 0.7834  \u001b[0m | \u001b[0m 0.07483 \u001b[0m | \u001b[0m 3.0     \u001b[0m | \u001b[0m 15.81   \u001b[0m | \u001b[0m 114.7   \u001b[0m | \u001b[0m 0.7185  \u001b[0m |\n",
      "| \u001b[0m 2       \u001b[0m | \u001b[0m 0.7224  \u001b[0m | \u001b[0m 0.8123  \u001b[0m | \u001b[0m 0.04378 \u001b[0m | \u001b[0m 4.437   \u001b[0m | \u001b[0m 28.5    \u001b[0m | \u001b[0m 113.8   \u001b[0m | \u001b[0m 0.8289  \u001b[0m |\n",
      "| \u001b[0m 3       \u001b[0m | \u001b[0m 0.7216  \u001b[0m | \u001b[0m 0.8195  \u001b[0m | \u001b[0m 0.03866 \u001b[0m | \u001b[0m 4.989   \u001b[0m | \u001b[0m 22.97   \u001b[0m | \u001b[0m 117.2   \u001b[0m | \u001b[0m 0.7606  \u001b[0m |\n",
      "| \u001b[95m 4       \u001b[0m | \u001b[95m 0.7258  \u001b[0m | \u001b[95m 0.7708  \u001b[0m | \u001b[95m 0.09928 \u001b[0m | \u001b[95m 3.305   \u001b[0m | \u001b[95m 15.42   \u001b[0m | \u001b[95m 114.6   \u001b[0m | \u001b[95m 0.7889  \u001b[0m |\n",
      "| \u001b[0m 5       \u001b[0m | \u001b[0m 0.7244  \u001b[0m | \u001b[0m 0.7819  \u001b[0m | \u001b[0m 0.02101 \u001b[0m | \u001b[0m 5.19    \u001b[0m | \u001b[0m 43.54   \u001b[0m | \u001b[0m 166.3   \u001b[0m | \u001b[0m 0.779   \u001b[0m |\n",
      "| \u001b[0m 6       \u001b[0m | \u001b[0m 0.7183  \u001b[0m | \u001b[0m 0.8834  \u001b[0m | \u001b[0m 0.01852 \u001b[0m | \u001b[0m 5.96    \u001b[0m | \u001b[0m 47.4    \u001b[0m | \u001b[0m 101.3   \u001b[0m | \u001b[0m 0.7908  \u001b[0m |\n",
      "=================================================================================================\n"
     ]
    }
   ],
   "metadata": {}
  },
  {
   "cell_type": "markdown",
   "source": [
    "The best model from this very small tuning job is shown below!"
   ],
   "metadata": {}
  },
  {
   "cell_type": "code",
   "execution_count": 94,
   "source": [
    "optimizer.max"
   ],
   "outputs": [
    {
     "output_type": "execute_result",
     "data": {
      "text/plain": [
       "{'target': 0.7257592021075219,\n",
       " 'params': {'colsample_bytree': 0.7707989054626198,\n",
       "  'learning_rate': 0.0992841385487669,\n",
       "  'max_depth': 3.305053708963277,\n",
       "  'min_child_weight': 15.42155004230132,\n",
       "  'n_estimators': 114.56478458431769,\n",
       "  'subsample': 0.7889060369630387}}"
      ]
     },
     "metadata": {},
     "execution_count": 94
    }
   ],
   "metadata": {}
  },
  {
   "cell_type": "markdown",
   "source": [
    "# Best Model Evaluation"
   ],
   "metadata": {}
  },
  {
   "cell_type": "code",
   "execution_count": 99,
   "source": [
    "best_model = xgb.XGBClassifier(scale_pos_weight=10\n",
    "                               ,max_depth=int(optimizer.max['params']['max_depth'])\n",
    "                               ,learning_rate=optimizer.max['params']['learning_rate']\n",
    "                               ,n_estimators=int(optimizer.max['params']['n_estimators'])\n",
    "                               ,min_child_weight=int(optimizer.max['params']['min_child_weight'])\n",
    "                               ,subsample=optimizer.max['params']['subsample']\n",
    "                               ,colsample_bytree=optimizer.max['params']['colsample_bytree'])\n",
    "best_model.fit(X_train_over, y_train_over)"
   ],
   "outputs": [
    {
     "output_type": "execute_result",
     "data": {
      "text/plain": [
       "XGBClassifier(colsample_bytree=0.7707989054626198,\n",
       "              learning_rate=0.0992841385487669, min_child_weight=15,\n",
       "              n_estimators=114, scale_pos_weight=10,\n",
       "              subsample=0.7889060369630387)"
      ]
     },
     "metadata": {},
     "execution_count": 99
    }
   ],
   "metadata": {}
  },
  {
   "cell_type": "code",
   "execution_count": 100,
   "source": [
    "y_pred_test = best_model.predict_proba(X_test)[:,1]\n",
    "roc_auc_score(y_test, y_pred_test)"
   ],
   "outputs": [
    {
     "output_type": "execute_result",
     "data": {
      "text/plain": [
       "0.7175846161599228"
      ]
     },
     "metadata": {},
     "execution_count": 100
    }
   ],
   "metadata": {}
  },
  {
   "cell_type": "code",
   "execution_count": 101,
   "source": [
    "y_pred_test_bool = best_model.predict(X_test)\n",
    "print(classification_report(y_test, y_pred_test_bool))"
   ],
   "outputs": [
    {
     "output_type": "stream",
     "name": "stdout",
     "text": [
      "              precision    recall  f1-score   support\n",
      "\n",
      "           0       0.99      0.61      0.76     94592\n",
      "           1       0.03      0.69      0.06      1695\n",
      "\n",
      "    accuracy                           0.61     96287\n",
      "   macro avg       0.51      0.65      0.41     96287\n",
      "weighted avg       0.97      0.61      0.74     96287\n",
      "\n"
     ]
    }
   ],
   "metadata": {}
  },
  {
   "cell_type": "code",
   "execution_count": 107,
   "source": [
    "xgb.plot_importance(best_model,max_num_features=15)"
   ],
   "outputs": [
    {
     "output_type": "execute_result",
     "data": {
      "text/plain": [
       "<AxesSubplot:title={'center':'Feature importance'}, xlabel='F score', ylabel='Features'>"
      ]
     },
     "metadata": {},
     "execution_count": 107
    },
    {
     "output_type": "display_data",
     "data": {
      "image/png": "[encoded data removed]",
      "text/plain": [
       "<Figure size 432x288 with 1 Axes>"
      ]
     },
     "metadata": {
      "needs_background": "light"
     }
    }
   ],
   "metadata": {}
  },
  {
   "cell_type": "markdown",
   "source": [
    "SHAP values are awesome and can give some overview as to how each feature is impacting the model predictions.\n",
    "\n",
    "https://towardsdatascience.com/shap-explained-the-way-i-wish-someone-explained-it-to-me-ab81cc69ef30\n"
   ],
   "metadata": {}
  },
  {
   "cell_type": "code",
   "execution_count": 109,
   "source": [
    "explainer = shap.TreeExplainer(best_model)"
   ],
   "outputs": [],
   "metadata": {}
  },
  {
   "cell_type": "code",
   "execution_count": 113,
   "source": [
    "shap_values = explainer.shap_values(X_test)"
   ],
   "outputs": [],
   "metadata": {}
  },
  {
   "cell_type": "code",
   "execution_count": 114,
   "source": [
    "shap.summary_plot(shap_values, X_test, max_display=15)"
   ],
   "outputs": [
    {
     "output_type": "display_data",
     "data": {
      "image/png": "[encoded data removed]",
      "text/plain": [
       "<Figure size 576x540 with 2 Axes>"
      ]
     },
     "metadata": {
      "needs_background": "light"
     }
    }
   ],
   "metadata": {}
  }
 ],
 "metadata": {
  "kernelspec": {
   "display_name": "Python 3",
   "language": "python",
   "name": "python3"
  },
  "language_info": {
   "codemirror_mode": {
    "name": "ipython",
    "version": 3
   },
   "file_extension": ".py",
   "mimetype": "text/x-python",
   "name": "python",
   "nbconvert_exporter": "python",
   "pygments_lexer": "ipython3",
   "version": "3.7.4"
  }
 },
 "nbformat": 4,
 "nbformat_minor": 2
}