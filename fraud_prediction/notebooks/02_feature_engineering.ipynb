{
 "cells": [
  {
   "cell_type": "markdown",
   "source": [
    "# Imports"
   ],
   "metadata": {}
  },
  {
   "cell_type": "code",
   "execution_count": 40,
   "source": [
    "import pandas as pd\n",
    "import numpy as np"
   ],
   "outputs": [],
   "metadata": {}
  },
  {
   "cell_type": "markdown",
   "source": [
    "# Import Data"
   ],
   "metadata": {}
  },
  {
   "cell_type": "code",
   "execution_count": 8,
   "source": [
    "df = pd.read_csv('transactions_data.csv')"
   ],
   "outputs": [],
   "metadata": {}
  },
  {
   "cell_type": "markdown",
   "source": [
    "# Create Date Features"
   ],
   "metadata": {}
  },
  {
   "cell_type": "markdown",
   "source": [
    "Assumption: all datetimes are in the same timezone."
   ],
   "metadata": {}
  },
  {
   "cell_type": "code",
   "execution_count": 9,
   "source": [
    "for col in ['transactionDateTime','currentExpDate','accountOpenDate','dateOfLastAddressChange']:\n",
    "    df[col] = pd.to_datetime(df[col])"
   ],
   "outputs": [],
   "metadata": {}
  },
  {
   "cell_type": "code",
   "execution_count": 39,
   "source": [
    "df['transactionDate'] = pd.to_datetime(df['transactionDateTime'].dt.date)\n",
    "df['transactionHour'] = df['transactionDateTime'].dt.hour\n",
    "df['transactionDayName'] = df['transactionDateTime'].dt.day_name()"
   ],
   "outputs": [],
   "metadata": {}
  },
  {
   "cell_type": "code",
   "execution_count": 22,
   "source": [
    "df['daysSinceAccountOpen'] = (df['transactionDateTime'] - df['accountOpenDate']).dt.days\n",
    "df['daysSinceLastAddressChange'] = (df['transactionDateTime'] - df['dateOfLastAddressChange']).dt.days"
   ],
   "outputs": [],
   "metadata": {}
  },
  {
   "cell_type": "markdown",
   "source": [
    "# CVV Feature"
   ],
   "metadata": {}
  },
  {
   "cell_type": "markdown",
   "source": [
    "Assuming that the `cardCVV` column contains the actual card CVV and `enteredCVV` contains the CVV that was entered during the transaction."
   ],
   "metadata": {}
  },
  {
   "cell_type": "code",
   "execution_count": 48,
   "source": [
    "(df.cardCVV == df.enteredCVV).sum() / len(df)"
   ],
   "outputs": [
    {
     "output_type": "execute_result",
     "data": {
      "text/plain": [
       "0.9907510974990419"
      ]
     },
     "metadata": {},
     "execution_count": 48
    }
   ],
   "metadata": {}
  },
  {
   "cell_type": "code",
   "execution_count": 53,
   "source": [
    "df['cardCVVMatch'] = (df.cardCVV == df.enteredCVV).astype(int)"
   ],
   "outputs": [],
   "metadata": {}
  },
  {
   "cell_type": "code",
   "execution_count": 54,
   "source": [
    "df['cardCVVMatch'].value_counts()"
   ],
   "outputs": [
    {
     "output_type": "execute_result",
     "data": {
      "text/plain": [
       "1    635977\n",
       "0      5937\n",
       "Name: cardCVVMatch, dtype: int64"
      ]
     },
     "metadata": {},
     "execution_count": 54
    }
   ],
   "metadata": {}
  },
  {
   "cell_type": "markdown",
   "source": [
    "# Address High Cardinality Features"
   ],
   "metadata": {}
  },
  {
   "cell_type": "markdown",
   "source": [
    "High cardinality columns contain a high volume of unique categorical values. When these are encoded, they can cause a large increase in the size of the data and we can also run into the curse of dimensionality which means the model will find it harder to identify meaningful patterns and won't be able to generalise well.\n",
    "\n",
    "Merchant name could be useful as there may be some merchants who see higher volumes of fraud than others. We could use this feature but group the merchants who see very few transactions into an \"other\" column to avoid high dimensionality. This is quite a basic/naive method and I have seen other methods discussed online called \"count encoding\" and \"catboost encoding\" (using CatBoost algorithm) which might be interesting to explore if I had more time.\n",
    "\n",
    "* https://www.kaggle.com/matleonard/categorical-encodings\n",
    "* https://greenet09.github.io/datasophy/2019/03/03/Comparing-Methods-for-Dealing-with-High-cardinality-Categorical-Features.html"
   ],
   "metadata": {}
  },
  {
   "cell_type": "code",
   "execution_count": 24,
   "source": [
    "high_cardinality_cols = [col for col in df.columns if col in df.columns[(df.nunique() >= 20)] \n",
    "                        and col in df.select_dtypes('object').columns]\n",
    "high_cardinality_cols"
   ],
   "outputs": [
    {
     "output_type": "execute_result",
     "data": {
      "text/plain": [
       "['merchantName']"
      ]
     },
     "metadata": {},
     "execution_count": 24
    }
   ],
   "metadata": {}
  },
  {
   "cell_type": "code",
   "execution_count": 25,
   "source": [
    "df.merchantName.value_counts()[:10]"
   ],
   "outputs": [
    {
     "output_type": "execute_result",
     "data": {
      "text/plain": [
       "Lyft            25311\n",
       "Uber            25263\n",
       "gap.com         13824\n",
       "apple.com       13607\n",
       "target.com      13601\n",
       "alibaba.com     13583\n",
       "staples.com     13512\n",
       "amazon.com      13477\n",
       "ebay.com        13472\n",
       "discount.com    13394\n",
       "Name: merchantName, dtype: int64"
      ]
     },
     "metadata": {},
     "execution_count": 25
    }
   ],
   "metadata": {}
  },
  {
   "cell_type": "code",
   "execution_count": 26,
   "source": [
    "df.merchantName.value_counts().min()"
   ],
   "outputs": [
    {
     "output_type": "execute_result",
     "data": {
      "text/plain": [
       "1"
      ]
     },
     "metadata": {},
     "execution_count": 26
    }
   ],
   "metadata": {}
  },
  {
   "cell_type": "code",
   "execution_count": 27,
   "source": [
    "df.merchantName.value_counts()[:10] / len(df)"
   ],
   "outputs": [
    {
     "output_type": "execute_result",
     "data": {
      "text/plain": [
       "Lyft            0.039431\n",
       "Uber            0.039356\n",
       "gap.com         0.021536\n",
       "apple.com       0.021198\n",
       "target.com      0.021188\n",
       "alibaba.com     0.021160\n",
       "staples.com     0.021050\n",
       "amazon.com      0.020995\n",
       "ebay.com        0.020987\n",
       "discount.com    0.020866\n",
       "Name: merchantName, dtype: float64"
      ]
     },
     "metadata": {},
     "execution_count": 27
    }
   ],
   "metadata": {}
  },
  {
   "cell_type": "markdown",
   "source": [
    "Some of these merchant names look like they have specific area codes e.g. Renaissance Hotel #583180 and Renaissance Hotel #499336. With more time, it might be useful to pull out the company name and then use the ID to somehow identify the location to add geospatial features."
   ],
   "metadata": {}
  },
  {
   "cell_type": "markdown",
   "source": [
    "I'll categorise any merchants than account for less than 0.05% of the data into an \"other\" category."
   ],
   "metadata": {}
  },
  {
   "cell_type": "code",
   "execution_count": 28,
   "source": [
    "merchant_percent = df.merchantName.value_counts() / len(df)\n",
    "len(merchant_percent[merchant_percent>0.005])"
   ],
   "outputs": [
    {
     "output_type": "execute_result",
     "data": {
      "text/plain": [
       "43"
      ]
     },
     "metadata": {},
     "execution_count": 28
    }
   ],
   "metadata": {}
  },
  {
   "cell_type": "code",
   "execution_count": 29,
   "source": [
    "keep_merchants = list(merchant_percent[merchant_percent>0.005].index)"
   ],
   "outputs": [],
   "metadata": {}
  },
  {
   "cell_type": "code",
   "execution_count": 32,
   "source": [
    "df[df.merchantName=='Renaissance Hotel #499336'].accountNumber.count()"
   ],
   "outputs": [
    {
     "output_type": "execute_result",
     "data": {
      "text/plain": [
       "104"
      ]
     },
     "metadata": {},
     "execution_count": 32
    }
   ],
   "metadata": {}
  },
  {
   "cell_type": "code",
   "execution_count": 42,
   "source": [
    "df['merchantNameGroup'] = np.where(df.merchantName.isin(keep_merchants),df.merchantName,\"other\")"
   ],
   "outputs": [],
   "metadata": {}
  },
  {
   "cell_type": "code",
   "execution_count": 43,
   "source": [
    "df['merchantNameGroup'].nunique()"
   ],
   "outputs": [
    {
     "output_type": "execute_result",
     "data": {
      "text/plain": [
       "44"
      ]
     },
     "metadata": {},
     "execution_count": 43
    }
   ],
   "metadata": {}
  },
  {
   "cell_type": "markdown",
   "source": [
    "# Create Feature List"
   ],
   "metadata": {}
  },
  {
   "cell_type": "markdown",
   "source": [
    "Dropping some features (e.g. `posEntryMode`) due to lack of domain knowledge."
   ],
   "metadata": {}
  },
  {
   "cell_type": "code",
   "execution_count": 76,
   "source": [
    "features = ['creditLimit', 'availableMoney',\n",
    "       'transactionAmount',\n",
    "       'acqCountry', 'merchantCountryCode',\n",
    "       'merchantCategoryCode', 'transactionType', \n",
    "       'currentBalance', 'cardPresent',\n",
    "       'expirationDateKeyInMatch', 'transactionHour',\n",
    "       'daysSinceAccountOpen', 'daysSinceLastAddressChange',\n",
    "       'transactionDayName', 'merchantNameGroup', 'cardCVVMatch']\n",
    "\n",
    "target = ['isFraud']"
   ],
   "outputs": [],
   "metadata": {}
  },
  {
   "cell_type": "markdown",
   "source": [
    "# Create Dummy Columns"
   ],
   "metadata": {}
  },
  {
   "cell_type": "code",
   "execution_count": 79,
   "source": [
    "model_data = pd.get_dummies(df[features + target])"
   ],
   "outputs": [],
   "metadata": {}
  },
  {
   "cell_type": "code",
   "execution_count": 80,
   "source": [
    "model_data.shape"
   ],
   "outputs": [
    {
     "output_type": "execute_result",
     "data": {
      "text/plain": [
       "(641914, 92)"
      ]
     },
     "metadata": {},
     "execution_count": 80
    }
   ],
   "metadata": {}
  },
  {
   "cell_type": "markdown",
   "source": [
    "# Save Data"
   ],
   "metadata": {}
  },
  {
   "cell_type": "code",
   "execution_count": 81,
   "source": [
    "model_data.to_csv('model_data.csv',index=False)"
   ],
   "outputs": [],
   "metadata": {}
  }
 ],
 "metadata": {
  "kernelspec": {
   "display_name": "Python 3",
   "language": "python",
   "name": "python3"
  },
  "language_info": {
   "codemirror_mode": {
    "name": "ipython",
    "version": 3
   },
   "file_extension": ".py",
   "mimetype": "text/x-python",
   "name": "python",
   "nbconvert_exporter": "python",
   "pygments_lexer": "ipython3",
   "version": "3.7.4"
  }
 },
 "nbformat": 4,
 "nbformat_minor": 2
}